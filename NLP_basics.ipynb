{
 "cells": [
  {
   "cell_type": "markdown",
   "id": "5fa2fbd0-e8ab-4fb8-888b-5c2b898f512f",
   "metadata": {},
   "source": [
    "# Natural Language Processing"
   ]
  },
  {
   "cell_type": "code",
   "execution_count": 1,
   "id": "fd6c3024-2ffc-4e4a-be16-7888a500fba2",
   "metadata": {},
   "outputs": [
    {
     "data": {
      "text/plain": [
       "'The design thinking process should not be seen as a concrete and inflexible approach to design; the component stages identified should serve as a guide to the activities you carry out. The stages might be switched, conducted concurrently or repeated several times to gain the most informative insights about your users, expand the solution space and hone in on innovative solutions. This is one of the main benefits of the five-stage model. Knowledge acquired in the latter stages of the process can inform repeats of earlier stages. Information is continually used to inform the understanding of the problem and solution spaces, and to redefine the problem itself. This creates a perpetual loop, in which the designers continue to gain new insights, develop new ways to view the product (or service) and its possible uses and develop a far more profound understanding of their real users and the problems they face.'"
      ]
     },
     "execution_count": 1,
     "metadata": {},
     "output_type": "execute_result"
    }
   ],
   "source": [
    "text = \"The design thinking process should not be seen as a concrete and inflexible approach to design; the component stages identified should serve as a guide to the activities you carry out. The stages might be switched, conducted concurrently or repeated several times to gain the most informative insights about your users, expand the solution space and hone in on innovative solutions. This is one of the main benefits of the five-stage model. Knowledge acquired in the latter stages of the process can inform repeats of earlier stages. Information is continually used to inform the understanding of the problem and solution spaces, and to redefine the problem itself. This creates a perpetual loop, in which the designers continue to gain new insights, develop new ways to view the product (or service) and its possible uses and develop a far more profound understanding of their real users and the problems they face.\"\n",
    "text"
   ]
  },
  {
   "cell_type": "markdown",
   "id": "7c4392ef-f282-46dd-b68d-ad0463d75434",
   "metadata": {},
   "source": [
    "## Segmentation"
   ]
  },
  {
   "cell_type": "code",
   "execution_count": 4,
   "id": "2f8bbe8c-e130-43b4-a820-b120182646db",
   "metadata": {},
   "outputs": [
    {
     "name": "stderr",
     "output_type": "stream",
     "text": [
      "[nltk_data] Downloading package punkt to /home/dell/nltk_data...\n",
      "[nltk_data]   Package punkt is already up-to-date!\n"
     ]
    }
   ],
   "source": [
    "# import\n",
    "import nltk\n",
    "nltk.download('punkt')\n",
    "from nltk.tokenize import sent_tokenize"
   ]
  },
  {
   "cell_type": "code",
   "execution_count": 5,
   "id": "56ee8ac8-62b0-4c4e-ab88-83b36d655284",
   "metadata": {},
   "outputs": [
    {
     "data": {
      "text/plain": [
       "['The design thinking process should not be seen as a concrete and inflexible approach to design; the component stages identified should serve as a guide to the activities you carry out.',\n",
       " 'The stages might be switched, conducted concurrently or repeated several times to gain the most informative insights about your users, expand the solution space and hone in on innovative solutions.',\n",
       " 'This is one of the main benefits of the five-stage model.',\n",
       " 'Knowledge acquired in the latter stages of the process can inform repeats of earlier stages.',\n",
       " 'Information is continually used to inform the understanding of the problem and solution spaces, and to redefine the problem itself.',\n",
       " 'This creates a perpetual loop, in which the designers continue to gain new insights, develop new ways to view the product (or service) and its possible uses and develop a far more profound understanding of their real users and the problems they face.']"
      ]
     },
     "execution_count": 5,
     "metadata": {},
     "output_type": "execute_result"
    }
   ],
   "source": [
    "# Split text into sentences\n",
    "sentences = sent_tokenize(text)\n",
    "sentences"
   ]
  },
  {
   "cell_type": "code",
   "execution_count": 8,
   "id": "7a7281ae-3559-43d4-ac1c-3fec8ac605bf",
   "metadata": {},
   "outputs": [
    {
     "data": {
      "text/plain": [
       "['The design thinking process should not be seen as a concrete and inflexible approach to design  the component stages identified should serve as a guide to the activities you carry out ',\n",
       " 'The stages might be switched  conducted concurrently or repeated several times to gain the most informative insights about your users  expand the solution space and hone in on innovative solutions ',\n",
       " 'This is one of the main benefits of the five stage model ',\n",
       " 'Knowledge acquired in the latter stages of the process can inform repeats of earlier stages ',\n",
       " 'Information is continually used to inform the understanding of the problem and solution spaces  and to redefine the problem itself ',\n",
       " 'This creates a perpetual loop  in which the designers continue to gain new insights  develop new ways to view the product  or service  and its possible uses and develop a far more profound understanding of their real users and the problems they face ']"
      ]
     },
     "execution_count": 8,
     "metadata": {},
     "output_type": "execute_result"
    }
   ],
   "source": [
    "# Punctuation removal\n",
    "import re\n",
    "\n",
    "# Remove punctuation characters\n",
    "text = []\n",
    "for item in sentences:\n",
    "    sentence= re.sub(r\"[^a-zA-Z0-9]\", \" \", item)\n",
    "    text.append(sentence)\n",
    "\n",
    "text"
   ]
  },
  {
   "cell_type": "markdown",
   "id": "1ea146d0-7c9c-4eee-916d-b9f35d105d99",
   "metadata": {},
   "source": [
    "## Tokenization"
   ]
  },
  {
   "cell_type": "code",
   "execution_count": 9,
   "id": "d5371e3b-4df6-4646-af43-a8b14e12217b",
   "metadata": {},
   "outputs": [],
   "source": [
    "from nltk.tokenize import word_tokenize"
   ]
  },
  {
   "cell_type": "code",
   "execution_count": 17,
   "id": "e48e4e55-87de-4373-971b-10dec2c886d8",
   "metadata": {},
   "outputs": [
    {
     "name": "stdout",
     "output_type": "stream",
     "text": [
      "['The', 'design', 'thinking', 'process', 'should', 'not', 'be', 'seen', 'as', 'a', 'concrete', 'and', 'inflexible', 'approach', 'to', 'design', 'the', 'component', 'stages', 'identified', 'should', 'serve', 'as', 'a', 'guide', 'to', 'the', 'activities', 'you', 'carry', 'out', 'The', 'stages', 'might', 'be', 'switched', 'conducted', 'concurrently', 'or', 'repeated', 'several', 'times', 'to', 'gain', 'the', 'most', 'informative', 'insights', 'about', 'your', 'users', 'expand', 'the', 'solution', 'space', 'and', 'hone', 'in', 'on', 'innovative', 'solutions', 'This', 'is', 'one', 'of', 'the', 'main', 'benefits', 'of', 'the', 'five', 'stage', 'model', 'Knowledge', 'acquired', 'in', 'the', 'latter', 'stages', 'of', 'the', 'process', 'can', 'inform', 'repeats', 'of', 'earlier', 'stages', 'Information', 'is', 'continually', 'used', 'to', 'inform', 'the', 'understanding', 'of', 'the', 'problem', 'and', 'solution', 'spaces', 'and', 'to', 'redefine', 'the', 'problem', 'itself', 'This', 'creates', 'a', 'perpetual', 'loop', 'in', 'which', 'the', 'designers', 'continue', 'to', 'gain', 'new', 'insights', 'develop', 'new', 'ways', 'to', 'view', 'the', 'product', 'or', 'service', 'and', 'its', 'possible', 'uses', 'and', 'develop', 'a', 'far', 'more', 'profound', 'understanding', 'of', 'their', 'real', 'users', 'and', 'the', 'problems', 'they', 'face']\n"
     ]
    }
   ],
   "source": [
    "tokens = []\n",
    "for item in text:\n",
    "    words = word_tokenize(item)\n",
    "    tokens += words\n",
    "\n",
    "print(tokens)"
   ]
  },
  {
   "cell_type": "markdown",
   "id": "21c0bead-b1a2-4643-a0d0-c2da67fa0689",
   "metadata": {},
   "source": [
    "## Removal of Stop Words"
   ]
  },
  {
   "cell_type": "code",
   "execution_count": 14,
   "id": "d8b83aac-399f-4b73-acb5-c99ba3ddf8e1",
   "metadata": {},
   "outputs": [
    {
     "name": "stderr",
     "output_type": "stream",
     "text": [
      "[nltk_data] Downloading package stopwords to /home/dell/nltk_data...\n",
      "[nltk_data]   Package stopwords is already up-to-date!\n"
     ]
    }
   ],
   "source": [
    "nltk.download('stopwords')\n",
    "from nltk.corpus import stopwords"
   ]
  },
  {
   "cell_type": "code",
   "execution_count": 18,
   "id": "968bb9c6-8d25-44c2-8ec5-87de93e28377",
   "metadata": {},
   "outputs": [
    {
     "name": "stdout",
     "output_type": "stream",
     "text": [
      "['The', 'design', 'thinking', 'process', 'seen', 'concrete', 'inflexible', 'approach', 'design', 'component', 'stages', 'identified', 'serve', 'guide', 'activities', 'carry', 'The', 'stages', 'might', 'switched', 'conducted', 'concurrently', 'repeated', 'several', 'times', 'gain', 'informative', 'insights', 'users', 'expand', 'solution', 'space', 'hone', 'innovative', 'solutions', 'This', 'one', 'main', 'benefits', 'five', 'stage', 'model', 'Knowledge', 'acquired', 'latter', 'stages', 'process', 'inform', 'repeats', 'earlier', 'stages', 'Information', 'continually', 'used', 'inform', 'understanding', 'problem', 'solution', 'spaces', 'redefine', 'problem', 'This', 'creates', 'perpetual', 'loop', 'designers', 'continue', 'gain', 'new', 'insights', 'develop', 'new', 'ways', 'view', 'product', 'service', 'possible', 'uses', 'develop', 'far', 'profound', 'understanding', 'real', 'users', 'problems', 'face']\n"
     ]
    }
   ],
   "source": [
    "# Remove stop words\n",
    "words = [w for w in tokens if w not in stopwords.words(\"english\")]\n",
    "print(words)"
   ]
  },
  {
   "cell_type": "markdown",
   "id": "baf49287-3d55-493c-b507-4fd218fb7ef9",
   "metadata": {},
   "source": [
    "## Stemming and Lemmatization"
   ]
  },
  {
   "cell_type": "code",
   "execution_count": 19,
   "id": "421ebdd1-0eb4-4d76-acd0-b23573902cb3",
   "metadata": {},
   "outputs": [
    {
     "name": "stderr",
     "output_type": "stream",
     "text": [
      "[nltk_data] Downloading package wordnet to /home/dell/nltk_data...\n",
      "[nltk_data] Downloading package omw-1.4 to /home/dell/nltk_data...\n"
     ]
    },
    {
     "data": {
      "text/plain": [
       "True"
      ]
     },
     "execution_count": 19,
     "metadata": {},
     "output_type": "execute_result"
    }
   ],
   "source": [
    "nltk.download('wordnet')\n",
    "nltk.download('omw-1.4')"
   ]
  },
  {
   "cell_type": "code",
   "execution_count": 20,
   "id": "9841b015-ed35-4170-806d-960a09196d10",
   "metadata": {},
   "outputs": [
    {
     "name": "stdout",
     "output_type": "stream",
     "text": [
      "['the', 'design', 'think', 'process', 'seen', 'concret', 'inflex', 'approach', 'design', 'compon', 'stage', 'identifi', 'serv', 'guid', 'activ', 'carri', 'the', 'stage', 'might', 'switch', 'conduct', 'concurr', 'repeat', 'sever', 'time', 'gain', 'inform', 'insight', 'user', 'expand', 'solut', 'space', 'hone', 'innov', 'solut', 'thi', 'one', 'main', 'benefit', 'five', 'stage', 'model', 'knowledg', 'acquir', 'latter', 'stage', 'process', 'inform', 'repeat', 'earlier', 'stage', 'inform', 'continu', 'use', 'inform', 'understand', 'problem', 'solut', 'space', 'redefin', 'problem', 'thi', 'creat', 'perpetu', 'loop', 'design', 'continu', 'gain', 'new', 'insight', 'develop', 'new', 'way', 'view', 'product', 'servic', 'possibl', 'use', 'develop', 'far', 'profound', 'understand', 'real', 'user', 'problem', 'face']\n"
     ]
    }
   ],
   "source": [
    "# Stemming\n",
    "from nltk.stem.porter import PorterStemmer\n",
    "\n",
    "# Reduce words to their stems\n",
    "stemmed = [PorterStemmer().stem(w) for w in words]\n",
    "print(stemmed)"
   ]
  },
  {
   "cell_type": "code",
   "execution_count": 21,
   "id": "4556a989-c9f6-49f1-be04-41cd5c83247f",
   "metadata": {},
   "outputs": [
    {
     "name": "stdout",
     "output_type": "stream",
     "text": [
      "['The', 'design', 'thinking', 'process', 'seen', 'concrete', 'inflexible', 'approach', 'design', 'component', 'stage', 'identified', 'serve', 'guide', 'activity', 'carry', 'The', 'stage', 'might', 'switched', 'conducted', 'concurrently', 'repeated', 'several', 'time', 'gain', 'informative', 'insight', 'user', 'expand', 'solution', 'space', 'hone', 'innovative', 'solution', 'This', 'one', 'main', 'benefit', 'five', 'stage', 'model', 'Knowledge', 'acquired', 'latter', 'stage', 'process', 'inform', 'repeat', 'earlier', 'stage', 'Information', 'continually', 'used', 'inform', 'understanding', 'problem', 'solution', 'space', 'redefine', 'problem', 'This', 'creates', 'perpetual', 'loop', 'designer', 'continue', 'gain', 'new', 'insight', 'develop', 'new', 'way', 'view', 'product', 'service', 'possible', 'us', 'develop', 'far', 'profound', 'understanding', 'real', 'user', 'problem', 'face']\n"
     ]
    }
   ],
   "source": [
    "# Lemmatize\n",
    "from nltk.stem.wordnet import WordNetLemmatizer\n",
    "\n",
    "# Reduce words to their root form\n",
    "lemmatized = [WordNetLemmatizer().lemmatize(w) for w in words]\n",
    "print(lemmatized)"
   ]
  },
  {
   "cell_type": "markdown",
   "id": "a3984d7e-93ba-45a3-aecd-5e332d38944a",
   "metadata": {},
   "source": [
    "## Part of Speech Tagging"
   ]
  },
  {
   "cell_type": "code",
   "execution_count": 22,
   "id": "25c721cd-f79f-4ad0-9e12-20202ff738fc",
   "metadata": {},
   "outputs": [
    {
     "name": "stderr",
     "output_type": "stream",
     "text": [
      "[nltk_data] Downloading package averaged_perceptron_tagger to\n",
      "[nltk_data]     /home/dell/nltk_data...\n",
      "[nltk_data]   Unzipping taggers/averaged_perceptron_tagger.zip.\n",
      "[nltk_data] Downloading package maxent_ne_chunker to\n",
      "[nltk_data]     /home/dell/nltk_data...\n",
      "[nltk_data]   Unzipping chunkers/maxent_ne_chunker.zip.\n"
     ]
    },
    {
     "data": {
      "text/plain": [
       "True"
      ]
     },
     "execution_count": 22,
     "metadata": {},
     "output_type": "execute_result"
    }
   ],
   "source": [
    "nltk.download('averaged_perceptron_tagger')\n",
    "nltk.download('maxent_ne_chunker')"
   ]
  },
  {
   "cell_type": "code",
   "execution_count": 23,
   "id": "c14a4088-4904-4d55-bdd5-619e4c31d4f1",
   "metadata": {},
   "outputs": [],
   "source": [
    "from nltk import pos_tag"
   ]
  },
  {
   "cell_type": "code",
   "execution_count": 25,
   "id": "d7788dde-3651-40e1-b3b5-e64765bcd8f9",
   "metadata": {},
   "outputs": [
    {
     "data": {
      "text/plain": [
       "[('The', 'DT'),\n",
       " ('design', 'NN'),\n",
       " ('thinking', 'VBG'),\n",
       " ('process', 'NN'),\n",
       " ('seen', 'VBN'),\n",
       " ('concrete', 'NN'),\n",
       " ('inflexible', 'JJ'),\n",
       " ('approach', 'NN'),\n",
       " ('design', 'NN'),\n",
       " ('component', 'JJ'),\n",
       " ('stages', 'NNS'),\n",
       " ('identified', 'VBN'),\n",
       " ('serve', 'VBP'),\n",
       " ('guide', 'JJ'),\n",
       " ('activities', 'NNS'),\n",
       " ('carry', 'VBP'),\n",
       " ('The', 'DT'),\n",
       " ('stages', 'NNS'),\n",
       " ('might', 'MD'),\n",
       " ('switched', 'VB'),\n",
       " ('conducted', 'VBN'),\n",
       " ('concurrently', 'RB'),\n",
       " ('repeated', 'VBN'),\n",
       " ('several', 'JJ'),\n",
       " ('times', 'NNS'),\n",
       " ('gain', 'VBP'),\n",
       " ('informative', 'JJ'),\n",
       " ('insights', 'NNS'),\n",
       " ('users', 'NNS'),\n",
       " ('expand', 'VBP'),\n",
       " ('solution', 'NN'),\n",
       " ('space', 'NN'),\n",
       " ('hone', 'NN'),\n",
       " ('innovative', 'JJ'),\n",
       " ('solutions', 'NNS'),\n",
       " ('This', 'DT'),\n",
       " ('one', 'CD'),\n",
       " ('main', 'JJ'),\n",
       " ('benefits', 'NNS'),\n",
       " ('five', 'CD'),\n",
       " ('stage', 'NN'),\n",
       " ('model', 'NN'),\n",
       " ('Knowledge', 'NNP'),\n",
       " ('acquired', 'VBD'),\n",
       " ('latter', 'JJ'),\n",
       " ('stages', 'NNS'),\n",
       " ('process', 'NN'),\n",
       " ('inform', 'NN'),\n",
       " ('repeats', 'VBZ'),\n",
       " ('earlier', 'JJR'),\n",
       " ('stages', 'NNS'),\n",
       " ('Information', 'NNP'),\n",
       " ('continually', 'RB'),\n",
       " ('used', 'VBD'),\n",
       " ('inform', 'NN'),\n",
       " ('understanding', 'NN'),\n",
       " ('problem', 'NN'),\n",
       " ('solution', 'NN'),\n",
       " ('spaces', 'NNS'),\n",
       " ('redefine', 'VBP'),\n",
       " ('problem', 'NN'),\n",
       " ('This', 'DT'),\n",
       " ('creates', 'VBZ'),\n",
       " ('perpetual', 'JJ'),\n",
       " ('loop', 'NN'),\n",
       " ('designers', 'NNS'),\n",
       " ('continue', 'VBP'),\n",
       " ('gain', 'VB'),\n",
       " ('new', 'JJ'),\n",
       " ('insights', 'NNS'),\n",
       " ('develop', 'VBP'),\n",
       " ('new', 'JJ'),\n",
       " ('ways', 'NNS'),\n",
       " ('view', 'VBP'),\n",
       " ('product', 'NN'),\n",
       " ('service', 'NN'),\n",
       " ('possible', 'JJ'),\n",
       " ('uses', 'NNS'),\n",
       " ('develop', 'VBP'),\n",
       " ('far', 'RB'),\n",
       " ('profound', 'IN'),\n",
       " ('understanding', 'VBG'),\n",
       " ('real', 'JJ'),\n",
       " ('users', 'NNS'),\n",
       " ('problems', 'NNS'),\n",
       " ('face', 'VBP')]"
      ]
     },
     "execution_count": 25,
     "metadata": {},
     "output_type": "execute_result"
    }
   ],
   "source": [
    "# Tag each word with part of speech\n",
    "pos_tag(words)"
   ]
  },
  {
   "cell_type": "markdown",
   "id": "28758d4a-2f0c-4697-8b84-d1a3d7d1ce38",
   "metadata": {},
   "source": [
    "## Named Entity Recognition"
   ]
  },
  {
   "cell_type": "code",
   "execution_count": 26,
   "id": "dc332d14-a7a6-4d2a-9622-4891e1ee1d1f",
   "metadata": {},
   "outputs": [
    {
     "name": "stderr",
     "output_type": "stream",
     "text": [
      "[nltk_data] Downloading package words to /home/dell/nltk_data...\n",
      "[nltk_data]   Unzipping corpora/words.zip.\n"
     ]
    },
    {
     "data": {
      "text/plain": [
       "True"
      ]
     },
     "execution_count": 26,
     "metadata": {},
     "output_type": "execute_result"
    }
   ],
   "source": [
    "from nltk import ne_chunk\n",
    "nltk.download('words')"
   ]
  },
  {
   "cell_type": "code",
   "execution_count": 28,
   "id": "a88a6067-288f-4deb-a8e1-17880f9dfb45",
   "metadata": {},
   "outputs": [
    {
     "name": "stdout",
     "output_type": "stream",
     "text": [
      "(S\n",
      "  The/DT\n",
      "  design/NN\n",
      "  thinking/VBG\n",
      "  process/NN\n",
      "  seen/VBN\n",
      "  concrete/NN\n",
      "  inflexible/JJ\n",
      "  approach/NN\n",
      "  design/NN\n",
      "  component/JJ\n",
      "  stage/NN\n",
      "  identified/VBD\n",
      "  serve/JJ\n",
      "  guide/NN\n",
      "  activity/NN\n",
      "  carry/VBP\n",
      "  The/DT\n",
      "  stage/NN\n",
      "  might/MD\n",
      "  switched/VB\n",
      "  conducted/VBN\n",
      "  concurrently/RB\n",
      "  repeated/VBN\n",
      "  several/JJ\n",
      "  time/NN\n",
      "  gain/NN\n",
      "  informative/JJ\n",
      "  insight/NN\n",
      "  user/NN\n",
      "  expand/NN\n",
      "  solution/NN\n",
      "  space/NN\n",
      "  hone/NN\n",
      "  innovative/JJ\n",
      "  solution/NN\n",
      "  This/DT\n",
      "  one/CD\n",
      "  main/JJ\n",
      "  benefit/NN\n",
      "  five/CD\n",
      "  stage/NN\n",
      "  model/NN\n",
      "  (PERSON Knowledge/NNP)\n",
      "  acquired/VBD\n",
      "  latter/JJ\n",
      "  stage/NN\n",
      "  process/NN\n",
      "  inform/NN\n",
      "  repeat/NN\n",
      "  earlier/RBR\n",
      "  stage/NN\n",
      "  Information/NNP\n",
      "  continually/RB\n",
      "  used/VBD\n",
      "  inform/NN\n",
      "  understanding/NN\n",
      "  problem/NN\n",
      "  solution/NN\n",
      "  space/NN\n",
      "  redefine/NN\n",
      "  problem/NN\n",
      "  This/DT\n",
      "  creates/VBZ\n",
      "  perpetual/JJ\n",
      "  loop/NN\n",
      "  designer/NN\n",
      "  continue/VBP\n",
      "  gain/VB\n",
      "  new/JJ\n",
      "  insight/JJ\n",
      "  develop/VB\n",
      "  new/JJ\n",
      "  way/NN\n",
      "  view/NN\n",
      "  product/NN\n",
      "  service/NN\n",
      "  possible/JJ\n",
      "  us/PRP\n",
      "  develop/VB\n",
      "  far/RB\n",
      "  profound/IN\n",
      "  understanding/VBG\n",
      "  real/JJ\n",
      "  user/NN\n",
      "  problem/NN\n",
      "  face/NN)\n"
     ]
    }
   ],
   "source": [
    "ner_tree = ne_chunk(pos_tag(lemmatized))\n",
    "print(ner_tree)"
   ]
  }
 ],
 "metadata": {
  "kernelspec": {
   "display_name": "Python 3 (ipykernel)",
   "language": "python",
   "name": "python3"
  },
  "language_info": {
   "codemirror_mode": {
    "name": "ipython",
    "version": 3
   },
   "file_extension": ".py",
   "mimetype": "text/x-python",
   "name": "python",
   "nbconvert_exporter": "python",
   "pygments_lexer": "ipython3",
   "version": "3.10.12"
  }
 },
 "nbformat": 4,
 "nbformat_minor": 5
}
